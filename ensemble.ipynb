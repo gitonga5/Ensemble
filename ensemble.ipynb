{
 "cells": [
  {
   "cell_type": "code",
   "execution_count": 1,
   "id": "320548be",
   "metadata": {},
   "outputs": [
    {
     "name": "stdout",
     "output_type": "stream",
     "text": [
      "Data preparation complete. Training and validation sets are ready.\n",
      "Training data shape: (1168, 2), (1168,)\n",
      "Validation data shape: (292, 2), (292,)\n"
     ]
    }
   ],
   "source": [
    "import pandas as pd\n",
    "from sklearn.model_selection import train_test_split\n",
    "from sklearn.preprocessing import StandardScaler\n",
    "\n",
    "# Load the dataset\n",
    "try:\n",
    "    df = pd.read_csv('train.csv')\n",
    "except FileNotFoundError:\n",
    "    print(\"Error: train.csv not found. Please make sure the file is in the current directory.\")\n",
    "    exit()\n",
    "\n",
    "# Select features and target\n",
    "features = ['GrLivArea', 'YearBuilt']\n",
    "target = 'SalePrice'\n",
    "X = df[features]\n",
    "y = df[target]\n",
    "\n",
    "# Split into training and validation sets\n",
    "X_train, X_val, y_train, y_val = train_test_split(X, y, test_size=0.2, random_state=42)\n",
    "\n",
    "# Scale the features\n",
    "scaler = StandardScaler()\n",
    "X_train_scaled = scaler.fit_transform(X_train)\n",
    "X_val_scaled = scaler.transform(X_val)\n",
    "\n",
    "print(\"Data preparation complete. Training and validation sets are ready.\")\n",
    "print(f\"Training data shape: {X_train_scaled.shape}, {y_train.shape}\")\n",
    "print(f\"Validation data shape: {X_val_scaled.shape}, {y_val.shape}\")"
   ]
  },
  {
   "cell_type": "markdown",
   "id": "aba99ba0",
   "metadata": {},
   "source": [
    "##### 3. Blending"
   ]
  },
  {
   "cell_type": "code",
   "execution_count": 2,
   "id": "d4f98dd5",
   "metadata": {},
   "outputs": [
    {
     "name": "stdout",
     "output_type": "stream",
     "text": [
      "Data preparation complete. Training and validation sets are ready.\n",
      "Training data shape: (1168, 2), (1168,)\n",
      "Validation data shape: (292, 2), (292,)\n"
     ]
    },
    {
     "name": "stderr",
     "output_type": "stream",
     "text": [
      "c:\\Users\\ericg\\anaconda3\\Lib\\site-packages\\sklearn\\metrics\\_regression.py:492: FutureWarning: 'squared' is deprecated in version 1.4 and will be removed in 1.6. To calculate the root mean squared error, use the function'root_mean_squared_error'.\n",
      "  warnings.warn(\n",
      "c:\\Users\\ericg\\anaconda3\\Lib\\site-packages\\sklearn\\metrics\\_regression.py:492: FutureWarning: 'squared' is deprecated in version 1.4 and will be removed in 1.6. To calculate the root mean squared error, use the function'root_mean_squared_error'.\n",
      "  warnings.warn(\n",
      "c:\\Users\\ericg\\anaconda3\\Lib\\site-packages\\sklearn\\metrics\\_regression.py:492: FutureWarning: 'squared' is deprecated in version 1.4 and will be removed in 1.6. To calculate the root mean squared error, use the function'root_mean_squared_error'.\n",
      "  warnings.warn(\n",
      "c:\\Users\\ericg\\anaconda3\\Lib\\site-packages\\sklearn\\metrics\\_regression.py:492: FutureWarning: 'squared' is deprecated in version 1.4 and will be removed in 1.6. To calculate the root mean squared error, use the function'root_mean_squared_error'.\n",
      "  warnings.warn(\n",
      "c:\\Users\\ericg\\anaconda3\\Lib\\site-packages\\sklearn\\metrics\\_regression.py:492: FutureWarning: 'squared' is deprecated in version 1.4 and will be removed in 1.6. To calculate the root mean squared error, use the function'root_mean_squared_error'.\n",
      "  warnings.warn(\n"
     ]
    },
    {
     "name": "stdout",
     "output_type": "stream",
     "text": [
      "\n",
      "Individual Model Performance:\n",
      "Linear Regression RMSE: 49955.53\n",
      "Support Vector Regression RMSE: 88555.22\n",
      "Decision Tree Regression RMSE: 46609.91\n",
      "\n",
      "Blending:\n",
      "Blended (Equal Weights) RMSE: 51961.28\n",
      "Blended (Weighted) RMSE: 56303.45\n"
     ]
    },
    {
     "name": "stderr",
     "output_type": "stream",
     "text": [
      "c:\\Users\\ericg\\anaconda3\\Lib\\site-packages\\sklearn\\metrics\\_regression.py:492: FutureWarning: 'squared' is deprecated in version 1.4 and will be removed in 1.6. To calculate the root mean squared error, use the function'root_mean_squared_error'.\n",
      "  warnings.warn(\n"
     ]
    },
    {
     "name": "stdout",
     "output_type": "stream",
     "text": [
      "\n",
      "Bagging:\n",
      "Bagging Model RMSE: 39467.54\n",
      "\n",
      "Stacking:\n",
      "Stacking Model RMSE: 44661.20\n"
     ]
    },
    {
     "name": "stderr",
     "output_type": "stream",
     "text": [
      "c:\\Users\\ericg\\anaconda3\\Lib\\site-packages\\sklearn\\metrics\\_regression.py:492: FutureWarning: 'squared' is deprecated in version 1.4 and will be removed in 1.6. To calculate the root mean squared error, use the function'root_mean_squared_error'.\n",
      "  warnings.warn(\n"
     ]
    }
   ],
   "source": [
    "import pandas as pd\n",
    "from sklearn.model_selection import train_test_split\n",
    "from sklearn.preprocessing import StandardScaler\n",
    "from sklearn.linear_model import LinearRegression\n",
    "from sklearn.svm import SVR\n",
    "from sklearn.tree import DecisionTreeRegressor\n",
    "from sklearn.ensemble import BaggingRegressor\n",
    "from sklearn.ensemble import StackingRegressor\n",
    "from sklearn.metrics import mean_squared_error\n",
    "\n",
    "# Load the dataset\n",
    "try:\n",
    "    df = pd.read_csv('train.csv')\n",
    "except FileNotFoundError:\n",
    "    print(\"Error: train.csv not found. Please make sure the file is in the current directory.\")\n",
    "    exit()\n",
    "\n",
    "# Select features and target\n",
    "features = ['GrLivArea', 'YearBuilt']\n",
    "target = 'SalePrice'\n",
    "X = df[features]\n",
    "y = df[target]\n",
    "\n",
    "# Split into training and validation sets\n",
    "X_train, X_val, y_train, y_val = train_test_split(X, y, test_size=0.2, random_state=42)\n",
    "\n",
    "# Scale the features\n",
    "scaler = StandardScaler()\n",
    "X_train_scaled = scaler.fit_transform(X_train)\n",
    "X_val_scaled = scaler.transform(X_val)\n",
    "\n",
    "print(\"Data preparation complete. Training and validation sets are ready.\")\n",
    "print(f\"Training data shape: {X_train_scaled.shape}, {y_train.shape}\")\n",
    "print(f\"Validation data shape: {X_val_scaled.shape}, {y_val.shape}\")\n",
    "\n",
    "# Initialize individual models\n",
    "linear_reg = LinearRegression()\n",
    "svr = SVR()\n",
    "tree_reg = DecisionTreeRegressor(random_state=42)\n",
    "\n",
    "# Train individual models\n",
    "linear_reg.fit(X_train_scaled, y_train)\n",
    "svr.fit(X_train_scaled, y_train)\n",
    "tree_reg.fit(X_train_scaled, y_train)\n",
    "\n",
    "# Make predictions on the validation set\n",
    "linear_pred = linear_reg.predict(X_val_scaled)\n",
    "svr_pred = svr.predict(X_val_scaled)\n",
    "tree_pred = tree_reg.predict(X_val_scaled)\n",
    "\n",
    "# Evaluate individual models\n",
    "linear_rmse = mean_squared_error(y_val, linear_pred, squared=False)\n",
    "svr_rmse = mean_squared_error(y_val, svr_pred, squared=False)\n",
    "tree_rmse = mean_squared_error(y_val, tree_pred, squared=False)\n",
    "\n",
    "print(f\"\\nIndividual Model Performance:\")\n",
    "print(f\"Linear Regression RMSE: {linear_rmse:.2f}\")\n",
    "print(f\"Support Vector Regression RMSE: {svr_rmse:.2f}\")\n",
    "print(f\"Decision Tree Regression RMSE: {tree_rmse:.2f}\")\n",
    "\n",
    "# Blending with equal weights\n",
    "blended_equal_predictions = (linear_pred + svr_pred + tree_pred) / 3.0\n",
    "blended_equal_rmse = mean_squared_error(y_val, blended_equal_predictions, squared=False)\n",
    "print(f\"\\nBlending:\")\n",
    "print(f\"Blended (Equal Weights) RMSE: {blended_equal_rmse:.2f}\")\n",
    "\n",
    "# Blending with custom weights\n",
    "weighted_predictions = (0.4 * linear_pred + 0.4 * svr_pred + 0.2 * tree_pred)\n",
    "weighted_rmse = mean_squared_error(y_val, weighted_predictions, squared=False)\n",
    "print(f\"Blended (Weighted) RMSE: {weighted_rmse:.2f}\")\n",
    "\n",
    "# Bagging\n",
    "bagging_reg = BaggingRegressor(DecisionTreeRegressor(random_state=42),\n",
    "                                n_estimators=100,\n",
    "                                random_state=42)\n",
    "bagging_reg.fit(X_train_scaled, y_train)\n",
    "bagging_predictions = bagging_reg.predict(X_val_scaled)\n",
    "bagging_rmse = mean_squared_error(y_val, bagging_predictions, squared=False)\n",
    "print(f\"\\nBagging:\")\n",
    "print(f\"Bagging Model RMSE: {bagging_rmse:.2f}\")\n",
    "\n",
    "# Stacking\n",
    "estimators = [\n",
    "    ('lr', LinearRegression()),\n",
    "    ('svr', SVR()),\n",
    "    ('dt', DecisionTreeRegressor(random_state=42))\n",
    "]\n",
    "stacking_reg = StackingRegressor(estimators=estimators,\n",
    "                                final_estimator=LinearRegression())\n",
    "stacking_reg.fit(X_train_scaled, y_train)\n",
    "stacking_predictions = stacking_reg.predict(X_val_scaled)\n",
    "stacking_rmse = mean_squared_error(y_val, stacking_predictions, squared=False)\n",
    "print(f\"\\nStacking:\")\n",
    "print(f\"Stacking Model RMSE: {stacking_rmse:.2f}\")"
   ]
  },
  {
   "cell_type": "markdown",
   "id": "70334e73",
   "metadata": {},
   "source": [
    "##### 4. Bagging"
   ]
  },
  {
   "cell_type": "code",
   "execution_count": 4,
   "id": "6e248ffd",
   "metadata": {},
   "outputs": [
    {
     "name": "stdout",
     "output_type": "stream",
     "text": [
      "Data preparation complete. Training and validation sets are ready.\n",
      "Training data shape: (1168, 2), (1168,)\n",
      "Validation data shape: (292, 2), (292,)\n",
      "\n",
      "Bagging (Scratch) Model RMSE: 40669.90\n"
     ]
    },
    {
     "name": "stderr",
     "output_type": "stream",
     "text": [
      "c:\\Users\\ericg\\anaconda3\\Lib\\site-packages\\sklearn\\metrics\\_regression.py:492: FutureWarning: 'squared' is deprecated in version 1.4 and will be removed in 1.6. To calculate the root mean squared error, use the function'root_mean_squared_error'.\n",
      "  warnings.warn(\n"
     ]
    }
   ],
   "source": [
    "import pandas as pd\n",
    "import numpy as np\n",
    "from sklearn.model_selection import train_test_split\n",
    "from sklearn.preprocessing import StandardScaler\n",
    "from sklearn.tree import DecisionTreeRegressor\n",
    "from sklearn.metrics import mean_squared_error\n",
    "\n",
    "# Load the dataset\n",
    "try:\n",
    "    df = pd.read_csv('train.csv')\n",
    "except FileNotFoundError:\n",
    "    print(\"Error: train.csv not found. Please make sure the file is in the current directory.\")\n",
    "    exit()\n",
    "\n",
    "# Select features and target\n",
    "features = ['GrLivArea', 'YearBuilt']\n",
    "target = 'SalePrice'\n",
    "X = df[features]\n",
    "y = df[target]\n",
    "\n",
    "# Split into training and validation sets\n",
    "X_train, X_val, y_train, y_val = train_test_split(X, y, test_size=0.2, random_state=42)\n",
    "\n",
    "# Scale the features and convert to NumPy arrays\n",
    "scaler = StandardScaler()\n",
    "X_train_scaled = scaler.fit_transform(X_train).astype(np.float32)\n",
    "X_val_scaled = scaler.transform(X_val).astype(np.float32)\n",
    "y_train = y_train.values.astype(np.float32)\n",
    "y_val = y_val.values.astype(np.float32)\n",
    "\n",
    "\n",
    "print(\"Data preparation complete. Training and validation sets are ready.\")\n",
    "print(f\"Training data shape: {X_train_scaled.shape}, {y_train.shape}\")\n",
    "print(f\"Validation data shape: {X_val_scaled.shape}, {y_val.shape}\")\n",
    "\n",
    "def create_bootstrap_sample(X, y):\n",
    "    \"\"\"Creates a bootstrap sample from the training data.\"\"\"\n",
    "    n_samples = X.shape[0]\n",
    "    indices = np.random.choice(n_samples, size=n_samples, replace=True)\n",
    "    return X[indices], y[indices]\n",
    "\n",
    "def bagging_scratch(X_train, y_train, X_val, n_estimators=10, random_state=None):\n",
    "    \"\"\"Implements bagging from scratch using DecisionTreeRegressor as the base model.\"\"\"\n",
    "    if random_state is not None:\n",
    "        np.random.seed(random_state)\n",
    "\n",
    "    estimators = []\n",
    "    for _ in range(n_estimators):\n",
    "        X_bootstrap, y_bootstrap = create_bootstrap_sample(X_train, y_train)\n",
    "        tree = DecisionTreeRegressor(random_state=random_state)\n",
    "        tree.fit(X_bootstrap, y_bootstrap)\n",
    "        estimators.append(tree)\n",
    "\n",
    "    predictions = np.zeros(X_val.shape[0])\n",
    "    for tree in estimators:\n",
    "        predictions += tree.predict(X_val)\n",
    "    final_predictions = predictions / n_estimators\n",
    "    return final_predictions\n",
    "\n",
    "# Implement bagging from scratch\n",
    "n_estimators = 100  # Number of bootstrap samples and trees\n",
    "bagging_scratch_predictions = bagging_scratch(X_train_scaled, y_train, X_val_scaled, n_estimators=n_estimators, random_state=42)\n",
    "bagging_scratch_rmse = mean_squared_error(y_val, bagging_scratch_predictions, squared=False)\n",
    "print(f\"\\nBagging (Scratch) Model RMSE: {bagging_scratch_rmse:.2f}\")"
   ]
  },
  {
   "cell_type": "markdown",
   "id": "aada1f93",
   "metadata": {},
   "source": [
    "##### 5. Stacking"
   ]
  },
  {
   "cell_type": "code",
   "execution_count": 5,
   "id": "7175ceab",
   "metadata": {},
   "outputs": [
    {
     "name": "stdout",
     "output_type": "stream",
     "text": [
      "\n",
      "Stacking (Scratch) Model RMSE: 46609.91\n"
     ]
    },
    {
     "name": "stderr",
     "output_type": "stream",
     "text": [
      "c:\\Users\\ericg\\anaconda3\\Lib\\site-packages\\sklearn\\metrics\\_regression.py:492: FutureWarning: 'squared' is deprecated in version 1.4 and will be removed in 1.6. To calculate the root mean squared error, use the function'root_mean_squared_error'.\n",
      "  warnings.warn(\n"
     ]
    }
   ],
   "source": [
    "from sklearn.linear_model import LinearRegression\n",
    "from sklearn.svm import SVR\n",
    "from sklearn.tree import DecisionTreeRegressor\n",
    "from sklearn.metrics import mean_squared_error\n",
    "import numpy as np\n",
    "\n",
    "def stacking_scratch(X_train, y_train, X_val, random_state=None):\n",
    "    \"\"\"Implements stacking from scratch.\"\"\"\n",
    "    if random_state is not None:\n",
    "        np.random.seed(random_state)\n",
    "\n",
    "    # Level-0 models\n",
    "    level0_models = [\n",
    "        ('lr', LinearRegression()),\n",
    "        ('svr', SVR()),\n",
    "        ('dt', DecisionTreeRegressor(random_state=random_state))\n",
    "    ]\n",
    "\n",
    "    # Train level-0 models\n",
    "    level0_predictions_train = np.zeros((X_train.shape[0], len(level0_models)))\n",
    "    level0_predictions_val = np.zeros((X_val.shape[0], len(level0_models)))\n",
    "\n",
    "    for i, (name, model) in enumerate(level0_models):\n",
    "        model.fit(X_train, y_train)\n",
    "        level0_predictions_train[:, i] = model.predict(X_train)\n",
    "        level0_predictions_val[:, i] = model.predict(X_val)\n",
    "\n",
    "    # Level-1 model (Meta-learner)\n",
    "    level1_model = LinearRegression()\n",
    "    level1_model.fit(level0_predictions_train, y_train)\n",
    "    final_predictions = level1_model.predict(level0_predictions_val)\n",
    "\n",
    "    return final_predictions\n",
    "\n",
    "# Implement stacking from scratch\n",
    "stacking_scratch_predictions = stacking_scratch(X_train_scaled, y_train, X_val_scaled, random_state=42)\n",
    "stacking_scratch_rmse = mean_squared_error(y_val, stacking_scratch_predictions, squared=False)\n",
    "print(f\"\\nStacking (Scratch) Model RMSE: {stacking_scratch_rmse:.2f}\")"
   ]
  }
 ],
 "metadata": {
  "kernelspec": {
   "display_name": "base",
   "language": "python",
   "name": "python3"
  },
  "language_info": {
   "codemirror_mode": {
    "name": "ipython",
    "version": 3
   },
   "file_extension": ".py",
   "mimetype": "text/x-python",
   "name": "python",
   "nbconvert_exporter": "python",
   "pygments_lexer": "ipython3",
   "version": "3.12.3"
  }
 },
 "nbformat": 4,
 "nbformat_minor": 5
}
